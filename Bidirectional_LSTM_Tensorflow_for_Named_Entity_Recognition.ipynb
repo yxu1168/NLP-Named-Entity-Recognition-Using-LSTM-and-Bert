{
  "metadata": {
    "kernelspec": {
      "language": "python",
      "display_name": "Python 3",
      "name": "python3"
    },
    "language_info": {
      "pygments_lexer": "ipython3",
      "nbconvert_exporter": "python",
      "version": "3.6.4",
      "file_extension": ".py",
      "codemirror_mode": {
        "name": "ipython",
        "version": 3
      },
      "name": "python",
      "mimetype": "text/x-python"
    },
    "colab": {
      "name": "Bidirectional LSTM Tensorflow for Named Entity Recognition.ipynb",
      "provenance": [],
      "collapsed_sections": []
    },
    "accelerator": "GPU"
  },
  "nbformat_minor": 0,
  "nbformat": 4,
  "cells": [
    {
      "cell_type": "markdown",
      "source": [
        "\n",
        "Data is downloaded from Kaggle \"Annotated Corpus for Named Entity Recognition\":\n",
        "\n",
        "https://www.kaggle.com/abhinavwalia95/entity-annotated-corpus"
      ],
      "metadata": {
        "id": "jVCF2F_RWLoH"
      }
    },
    {
      "cell_type": "markdown",
      "source": [
        "## Named Entity Recognition Using BiLSTM\n",
        "Named Entity Recognition (NER) is the task of identifying and categorizing key information (entities) in text. \n",
        "This can be broken down into two sub-tasks: identifying the boundaries of the named entities, and identifying its type.\n",
        "\n",
        "NER task is a classifier-based approach. In particular, a tagger can be built that labels each word in a sentence using the IOB format, where chunks are labelled by their appropriate type.\n",
        "\n",
        "The IOB Tagging system contains tags of the form:\n",
        "\n",
        "* B - {CHUNK_TYPE} – for the word in the Beginning chunk\n",
        "* I - {CHUNK_TYPE} – for words Inside the chunk\n",
        "* O – Outside any chunk\n",
        "\n",
        "The IOB tags are further classified into the following classes –\n",
        "\n",
        "geo = Geographical Entity\n",
        "\n",
        "org = Organization\n",
        "\n",
        "per = Person\n",
        "\n",
        "gpe = Geopolitical Entity\n",
        "\n",
        "tim = Time indicator\n",
        "\n",
        "art = Artifact\n",
        "\n",
        "eve = Event\n",
        "\n",
        "nat = Natural Phenomenon\n",
        "\n",
        "In this Notebook bidirectional LSTM is implemented for the NER Task."
      ],
      "metadata": {
        "id": "eno5d7wKVRPz"
      }
    },
    {
      "cell_type": "markdown",
      "source": [
        "## Importing Dependences"
      ],
      "metadata": {
        "id": "25cR18JgwkKv"
      }
    },
    {
      "cell_type": "code",
      "source": [
        "import numpy as np\n",
        "import pandas as pd\n",
        "import matplotlib.pyplot as plt\n",
        "import seaborn as sns\n",
        "import tensorflow as tf"
      ],
      "metadata": {
        "execution": {
          "iopub.status.busy": "2022-01-15T16:28:01.937479Z",
          "iopub.execute_input": "2022-01-15T16:28:01.937999Z",
          "iopub.status.idle": "2022-01-15T16:28:06.525904Z",
          "shell.execute_reply.started": "2022-01-15T16:28:01.937965Z",
          "shell.execute_reply": "2022-01-15T16:28:06.525195Z"
        },
        "trusted": true,
        "id": "Vz5Yv6oEwkKw"
      },
      "execution_count": 1,
      "outputs": []
    },
    {
      "cell_type": "markdown",
      "source": [
        "## Loading Dataset "
      ],
      "metadata": {
        "id": "MArV0yTkwkKy"
      }
    },
    {
      "cell_type": "code",
      "source": [
        "data = pd.read_csv(\"/content/ner_dataset.csv\", encoding= 'unicode_escape')"
      ],
      "metadata": {
        "id": "ZU9NFWtpTsUK"
      },
      "execution_count": 2,
      "outputs": []
    },
    {
      "cell_type": "code",
      "source": [
        "data.fillna(method = 'ffill', inplace = True)\n",
        "data.head()"
      ],
      "metadata": {
        "execution": {
          "iopub.status.busy": "2022-01-15T16:28:06.529637Z",
          "iopub.execute_input": "2022-01-15T16:28:06.529836Z",
          "iopub.status.idle": "2022-01-15T16:28:07.57241Z",
          "shell.execute_reply.started": "2022-01-15T16:28:06.529812Z",
          "shell.execute_reply": "2022-01-15T16:28:07.571743Z"
        },
        "trusted": true,
        "id": "k5UhH2U9wkKz",
        "colab": {
          "base_uri": "https://localhost:8080/",
          "height": 206
        },
        "outputId": "4a00593d-0792-4bc3-9cd4-f72b490c9da4"
      },
      "execution_count": 3,
      "outputs": [
        {
          "output_type": "execute_result",
          "data": {
            "text/plain": [
              "    Sentence #           Word  POS Tag\n",
              "0  Sentence: 1      Thousands  NNS   O\n",
              "1  Sentence: 1             of   IN   O\n",
              "2  Sentence: 1  demonstrators  NNS   O\n",
              "3  Sentence: 1           have  VBP   O\n",
              "4  Sentence: 1        marched  VBN   O"
            ],
            "text/html": [
              "\n",
              "  <div id=\"df-0847512d-fc76-4d4f-b995-5f0f5d8cf59e\">\n",
              "    <div class=\"colab-df-container\">\n",
              "      <div>\n",
              "<style scoped>\n",
              "    .dataframe tbody tr th:only-of-type {\n",
              "        vertical-align: middle;\n",
              "    }\n",
              "\n",
              "    .dataframe tbody tr th {\n",
              "        vertical-align: top;\n",
              "    }\n",
              "\n",
              "    .dataframe thead th {\n",
              "        text-align: right;\n",
              "    }\n",
              "</style>\n",
              "<table border=\"1\" class=\"dataframe\">\n",
              "  <thead>\n",
              "    <tr style=\"text-align: right;\">\n",
              "      <th></th>\n",
              "      <th>Sentence #</th>\n",
              "      <th>Word</th>\n",
              "      <th>POS</th>\n",
              "      <th>Tag</th>\n",
              "    </tr>\n",
              "  </thead>\n",
              "  <tbody>\n",
              "    <tr>\n",
              "      <th>0</th>\n",
              "      <td>Sentence: 1</td>\n",
              "      <td>Thousands</td>\n",
              "      <td>NNS</td>\n",
              "      <td>O</td>\n",
              "    </tr>\n",
              "    <tr>\n",
              "      <th>1</th>\n",
              "      <td>Sentence: 1</td>\n",
              "      <td>of</td>\n",
              "      <td>IN</td>\n",
              "      <td>O</td>\n",
              "    </tr>\n",
              "    <tr>\n",
              "      <th>2</th>\n",
              "      <td>Sentence: 1</td>\n",
              "      <td>demonstrators</td>\n",
              "      <td>NNS</td>\n",
              "      <td>O</td>\n",
              "    </tr>\n",
              "    <tr>\n",
              "      <th>3</th>\n",
              "      <td>Sentence: 1</td>\n",
              "      <td>have</td>\n",
              "      <td>VBP</td>\n",
              "      <td>O</td>\n",
              "    </tr>\n",
              "    <tr>\n",
              "      <th>4</th>\n",
              "      <td>Sentence: 1</td>\n",
              "      <td>marched</td>\n",
              "      <td>VBN</td>\n",
              "      <td>O</td>\n",
              "    </tr>\n",
              "  </tbody>\n",
              "</table>\n",
              "</div>\n",
              "      <button class=\"colab-df-convert\" onclick=\"convertToInteractive('df-0847512d-fc76-4d4f-b995-5f0f5d8cf59e')\"\n",
              "              title=\"Convert this dataframe to an interactive table.\"\n",
              "              style=\"display:none;\">\n",
              "        \n",
              "  <svg xmlns=\"http://www.w3.org/2000/svg\" height=\"24px\"viewBox=\"0 0 24 24\"\n",
              "       width=\"24px\">\n",
              "    <path d=\"M0 0h24v24H0V0z\" fill=\"none\"/>\n",
              "    <path d=\"M18.56 5.44l.94 2.06.94-2.06 2.06-.94-2.06-.94-.94-2.06-.94 2.06-2.06.94zm-11 1L8.5 8.5l.94-2.06 2.06-.94-2.06-.94L8.5 2.5l-.94 2.06-2.06.94zm10 10l.94 2.06.94-2.06 2.06-.94-2.06-.94-.94-2.06-.94 2.06-2.06.94z\"/><path d=\"M17.41 7.96l-1.37-1.37c-.4-.4-.92-.59-1.43-.59-.52 0-1.04.2-1.43.59L10.3 9.45l-7.72 7.72c-.78.78-.78 2.05 0 2.83L4 21.41c.39.39.9.59 1.41.59.51 0 1.02-.2 1.41-.59l7.78-7.78 2.81-2.81c.8-.78.8-2.07 0-2.86zM5.41 20L4 18.59l7.72-7.72 1.47 1.35L5.41 20z\"/>\n",
              "  </svg>\n",
              "      </button>\n",
              "      \n",
              "  <style>\n",
              "    .colab-df-container {\n",
              "      display:flex;\n",
              "      flex-wrap:wrap;\n",
              "      gap: 12px;\n",
              "    }\n",
              "\n",
              "    .colab-df-convert {\n",
              "      background-color: #E8F0FE;\n",
              "      border: none;\n",
              "      border-radius: 50%;\n",
              "      cursor: pointer;\n",
              "      display: none;\n",
              "      fill: #1967D2;\n",
              "      height: 32px;\n",
              "      padding: 0 0 0 0;\n",
              "      width: 32px;\n",
              "    }\n",
              "\n",
              "    .colab-df-convert:hover {\n",
              "      background-color: #E2EBFA;\n",
              "      box-shadow: 0px 1px 2px rgba(60, 64, 67, 0.3), 0px 1px 3px 1px rgba(60, 64, 67, 0.15);\n",
              "      fill: #174EA6;\n",
              "    }\n",
              "\n",
              "    [theme=dark] .colab-df-convert {\n",
              "      background-color: #3B4455;\n",
              "      fill: #D2E3FC;\n",
              "    }\n",
              "\n",
              "    [theme=dark] .colab-df-convert:hover {\n",
              "      background-color: #434B5C;\n",
              "      box-shadow: 0px 1px 3px 1px rgba(0, 0, 0, 0.15);\n",
              "      filter: drop-shadow(0px 1px 2px rgba(0, 0, 0, 0.3));\n",
              "      fill: #FFFFFF;\n",
              "    }\n",
              "  </style>\n",
              "\n",
              "      <script>\n",
              "        const buttonEl =\n",
              "          document.querySelector('#df-0847512d-fc76-4d4f-b995-5f0f5d8cf59e button.colab-df-convert');\n",
              "        buttonEl.style.display =\n",
              "          google.colab.kernel.accessAllowed ? 'block' : 'none';\n",
              "\n",
              "        async function convertToInteractive(key) {\n",
              "          const element = document.querySelector('#df-0847512d-fc76-4d4f-b995-5f0f5d8cf59e');\n",
              "          const dataTable =\n",
              "            await google.colab.kernel.invokeFunction('convertToInteractive',\n",
              "                                                     [key], {});\n",
              "          if (!dataTable) return;\n",
              "\n",
              "          const docLinkHtml = 'Like what you see? Visit the ' +\n",
              "            '<a target=\"_blank\" href=https://colab.research.google.com/notebooks/data_table.ipynb>data table notebook</a>'\n",
              "            + ' to learn more about interactive tables.';\n",
              "          element.innerHTML = '';\n",
              "          dataTable['output_type'] = 'display_data';\n",
              "          await google.colab.output.renderOutput(dataTable, element);\n",
              "          const docLink = document.createElement('div');\n",
              "          docLink.innerHTML = docLinkHtml;\n",
              "          element.appendChild(docLink);\n",
              "        }\n",
              "      </script>\n",
              "    </div>\n",
              "  </div>\n",
              "  "
            ]
          },
          "metadata": {},
          "execution_count": 3
        }
      ]
    },
    {
      "cell_type": "code",
      "source": [
        "data.shape"
      ],
      "metadata": {
        "colab": {
          "base_uri": "https://localhost:8080/"
        },
        "id": "49cMdB6OXguT",
        "outputId": "28d1de69-3056-4ab3-8d35-074f0bd26d34"
      },
      "execution_count": 4,
      "outputs": [
        {
          "output_type": "execute_result",
          "data": {
            "text/plain": [
              "(1048575, 4)"
            ]
          },
          "metadata": {},
          "execution_count": 4
        }
      ]
    },
    {
      "cell_type": "markdown",
      "source": [
        "## Exploratory Data Analysis "
      ],
      "metadata": {
        "id": "Ao9g1GkrwkK1"
      }
    },
    {
      "cell_type": "code",
      "source": [
        "# Data Shape\n",
        "data.shape"
      ],
      "metadata": {
        "execution": {
          "iopub.status.busy": "2022-01-15T16:28:08.41011Z",
          "iopub.execute_input": "2022-01-15T16:28:08.410563Z",
          "iopub.status.idle": "2022-01-15T16:28:08.416969Z",
          "shell.execute_reply.started": "2022-01-15T16:28:08.410521Z",
          "shell.execute_reply": "2022-01-15T16:28:08.416335Z"
        },
        "trusted": true,
        "id": "2fSt21DewkK4",
        "colab": {
          "base_uri": "https://localhost:8080/"
        },
        "outputId": "1376b404-7293-4ba6-de92-e31225609e5b"
      },
      "execution_count": 5,
      "outputs": [
        {
          "output_type": "execute_result",
          "data": {
            "text/plain": [
              "(1048575, 4)"
            ]
          },
          "metadata": {},
          "execution_count": 5
        }
      ]
    },
    {
      "cell_type": "code",
      "source": [
        "# Number of unique sentences\n",
        "len(np.unique(data['Sentence #']))"
      ],
      "metadata": {
        "execution": {
          "iopub.status.busy": "2022-01-15T16:28:08.418387Z",
          "iopub.execute_input": "2022-01-15T16:28:08.418809Z",
          "iopub.status.idle": "2022-01-15T16:28:09.738051Z",
          "shell.execute_reply.started": "2022-01-15T16:28:08.418772Z",
          "shell.execute_reply": "2022-01-15T16:28:09.7374Z"
        },
        "trusted": true,
        "id": "5do5TPMQwkK5",
        "colab": {
          "base_uri": "https://localhost:8080/"
        },
        "outputId": "acf18713-e762-4062-e015-e2cf1d85673f"
      },
      "execution_count": 6,
      "outputs": [
        {
          "output_type": "execute_result",
          "data": {
            "text/plain": [
              "47959"
            ]
          },
          "metadata": {},
          "execution_count": 6
        }
      ]
    },
    {
      "cell_type": "code",
      "source": [
        "print(\"Number of unique words in the dataset: {}\".format(data.Word.nunique()))\n",
        "print(\"Number of unique tags in the dataset: {}\".format(data.Tag.nunique()))"
      ],
      "metadata": {
        "execution": {
          "iopub.status.busy": "2022-01-15T16:28:09.739321Z",
          "iopub.execute_input": "2022-01-15T16:28:09.739582Z",
          "iopub.status.idle": "2022-01-15T16:28:09.933133Z",
          "shell.execute_reply.started": "2022-01-15T16:28:09.739547Z",
          "shell.execute_reply": "2022-01-15T16:28:09.932371Z"
        },
        "trusted": true,
        "id": "yL_kK2HbwkK5",
        "colab": {
          "base_uri": "https://localhost:8080/"
        },
        "outputId": "cd46563f-6dbf-4a2a-eee8-162856d5e4e4"
      },
      "execution_count": 7,
      "outputs": [
        {
          "output_type": "stream",
          "name": "stdout",
          "text": [
            "Number of unique words in the dataset: 35178\n",
            "Number of unique tags in the dataset: 17\n"
          ]
        }
      ]
    },
    {
      "cell_type": "code",
      "source": [
        "tags = data.Tag.unique()\n",
        "tags\n",
        "#len(tags)"
      ],
      "metadata": {
        "execution": {
          "iopub.status.busy": "2022-01-15T16:28:09.935837Z",
          "iopub.execute_input": "2022-01-15T16:28:09.936576Z",
          "iopub.status.idle": "2022-01-15T16:28:10.023376Z",
          "shell.execute_reply.started": "2022-01-15T16:28:09.936533Z",
          "shell.execute_reply": "2022-01-15T16:28:10.022325Z"
        },
        "trusted": true,
        "id": "S1igVb50wkK6",
        "colab": {
          "base_uri": "https://localhost:8080/"
        },
        "outputId": "5dc7e7a0-bb4a-4bfe-e159-f1c80adf9753"
      },
      "execution_count": 8,
      "outputs": [
        {
          "output_type": "execute_result",
          "data": {
            "text/plain": [
              "array(['O', 'B-geo', 'B-gpe', 'B-per', 'I-geo', 'B-org', 'I-org', 'B-tim',\n",
              "       'B-art', 'I-art', 'I-per', 'I-gpe', 'I-tim', 'B-nat', 'B-eve',\n",
              "       'I-eve', 'I-nat'], dtype=object)"
            ]
          },
          "metadata": {},
          "execution_count": 8
        }
      ]
    },
    {
      "cell_type": "code",
      "source": [
        "def num_words_tags (tags, data):\n",
        "    \n",
        "    \"\"\"This functions takes the tags we want to count and the datafram \n",
        "    and return a dict where the key is the tag and the value is the frequency\n",
        "    of that tag\"\"\"\n",
        "    \n",
        "    tags_count = {}\n",
        "    \n",
        "    for tag in tags:\n",
        "        len_tag = len(data[data['Tag'] == tag])\n",
        "        tags_count[tag] = len_tag\n",
        "    \n",
        "    return tags_count"
      ],
      "metadata": {
        "execution": {
          "iopub.status.busy": "2022-01-15T16:28:10.027975Z",
          "iopub.execute_input": "2022-01-15T16:28:10.028376Z",
          "iopub.status.idle": "2022-01-15T16:28:10.035029Z",
          "shell.execute_reply.started": "2022-01-15T16:28:10.028347Z",
          "shell.execute_reply": "2022-01-15T16:28:10.034126Z"
        },
        "trusted": true,
        "id": "GPoWVep2wkK7"
      },
      "execution_count": 9,
      "outputs": []
    },
    {
      "cell_type": "code",
      "source": [
        "tags_count = num_words_tags(tags, data)\n",
        "tags_count"
      ],
      "metadata": {
        "execution": {
          "iopub.status.busy": "2022-01-15T16:28:10.036603Z",
          "iopub.execute_input": "2022-01-15T16:28:10.03688Z",
          "iopub.status.idle": "2022-01-15T16:28:12.331067Z",
          "shell.execute_reply.started": "2022-01-15T16:28:10.036827Z",
          "shell.execute_reply": "2022-01-15T16:28:12.330399Z"
        },
        "trusted": true,
        "id": "QcJje2U8wkK8",
        "colab": {
          "base_uri": "https://localhost:8080/"
        },
        "outputId": "220c650c-3b9b-4f27-a9c9-8f0cb71e19ff"
      },
      "execution_count": 10,
      "outputs": [
        {
          "output_type": "execute_result",
          "data": {
            "text/plain": [
              "{'B-art': 402,\n",
              " 'B-eve': 308,\n",
              " 'B-geo': 37644,\n",
              " 'B-gpe': 15870,\n",
              " 'B-nat': 201,\n",
              " 'B-org': 20143,\n",
              " 'B-per': 16990,\n",
              " 'B-tim': 20333,\n",
              " 'I-art': 297,\n",
              " 'I-eve': 253,\n",
              " 'I-geo': 7414,\n",
              " 'I-gpe': 198,\n",
              " 'I-nat': 51,\n",
              " 'I-org': 16784,\n",
              " 'I-per': 17251,\n",
              " 'I-tim': 6528,\n",
              " 'O': 887908}"
            ]
          },
          "metadata": {},
          "execution_count": 10
        }
      ]
    },
    {
      "cell_type": "code",
      "source": [
        "plt.figure(figsize = (10, 6))\n",
        "plt.hist(data.Tag, log = True, label = 'Tags', color = 'olive', bins = 50)\n",
        "plt.xlabel('Tags', fontsize = 16)\n",
        "plt.ylabel('Count', fontsize = 16)\n",
        "plt.title(\"Tags Frequency\", fontsize = 20)\n",
        "plt.grid(alpha=0.3)\n",
        "plt.legend()\n",
        "plt.xticks(fontsize=15)\n",
        "plt.yticks(fontsize=15)\n",
        "plt.xticks(rotation=90)\n",
        "plt.show()"
      ],
      "metadata": {
        "execution": {
          "iopub.status.busy": "2022-01-15T16:28:12.332398Z",
          "iopub.execute_input": "2022-01-15T16:28:12.332808Z",
          "iopub.status.idle": "2022-01-15T16:28:13.70397Z",
          "shell.execute_reply.started": "2022-01-15T16:28:12.332771Z",
          "shell.execute_reply": "2022-01-15T16:28:13.703314Z"
        },
        "trusted": true,
        "id": "PhyZWlbfwkK9",
        "colab": {
          "base_uri": "https://localhost:8080/",
          "height": 448
        },
        "outputId": "04471901-1d7e-48ce-f4b2-8cf48d6ea020"
      },
      "execution_count": 11,
      "outputs": [
        {
          "output_type": "display_data",
          "data": {
            "text/plain": [
              "<Figure size 720x432 with 1 Axes>"
            ],
            "image/png": "[encoded data removed]"
          },
          "metadata": {
            "needs_background": "light"
          }
        }
      ]
    },
    {
      "cell_type": "markdown",
      "source": [
        "## Data Grouping"
      ],
      "metadata": {
        "id": "V8h-6juJwim8"
      }
    },
    {
      "cell_type": "code",
      "source": [
        "data1 = data.copy()"
      ],
      "metadata": {
        "id": "GjuMajwux_fH"
      },
      "execution_count": 12,
      "outputs": []
    },
    {
      "cell_type": "code",
      "source": [
        "data1['Sentence'] = data.groupby([\"Sentence #\"])['Word'].transform(lambda x:' '.join(x))\n",
        "#data1['POS'] = data.groupby([\"Sentence #\"])['POS'].transform(lambda x:' '.join(x))\n",
        "data1['Tag'] = data.groupby([\"Sentence #\"])['Tag'].transform(lambda x:' '.join(x))"
      ],
      "metadata": {
        "id": "wA-b8r5UjTZ6"
      },
      "execution_count": 13,
      "outputs": []
    },
    {
      "cell_type": "code",
      "source": [
        "data1.columns"
      ],
      "metadata": {
        "colab": {
          "base_uri": "https://localhost:8080/"
        },
        "id": "RYRpolvNRv2J",
        "outputId": "a54c1d97-63e2-4012-a7b7-887801218085"
      },
      "execution_count": 14,
      "outputs": [
        {
          "output_type": "execute_result",
          "data": {
            "text/plain": [
              "Index(['Sentence #', 'Word', 'POS', 'Tag', 'Sentence'], dtype='object')"
            ]
          },
          "metadata": {},
          "execution_count": 14
        }
      ]
    },
    {
      "cell_type": "code",
      "source": [
        "data1 = data1.drop(columns = ['Word','POS'])"
      ],
      "metadata": {
        "id": "KOHarxrdR8eW"
      },
      "execution_count": 15,
      "outputs": []
    },
    {
      "cell_type": "code",
      "source": [
        "data1 = data1.drop_duplicates()\n",
        "data1.shape"
      ],
      "metadata": {
        "colab": {
          "base_uri": "https://localhost:8080/"
        },
        "id": "2BEhCXD9S8LN",
        "outputId": "bfdec35f-84d6-4678-b3b0-9bcb2d80b775"
      },
      "execution_count": 16,
      "outputs": [
        {
          "output_type": "execute_result",
          "data": {
            "text/plain": [
              "(47959, 3)"
            ]
          },
          "metadata": {},
          "execution_count": 16
        }
      ]
    },
    {
      "cell_type": "code",
      "source": [
        "data1.head()"
      ],
      "metadata": {
        "colab": {
          "base_uri": "https://localhost:8080/",
          "height": 250
        },
        "id": "26q1tsIJRdSI",
        "outputId": "995f15eb-2da1-47ea-c192-5a6adc691f76"
      },
      "execution_count": 17,
      "outputs": [
        {
          "output_type": "execute_result",
          "data": {
            "text/plain": [
              "     Sentence #                                                Tag  \\\n",
              "0   Sentence: 1  O O O O O O B-geo O O O O O B-geo O O O O O B-...   \n",
              "24  Sentence: 2  O O O O O O O O O O O O O O O O O O B-per O O ...   \n",
              "54  Sentence: 3                O O O O O O O O O O O B-geo I-geo O   \n",
              "68  Sentence: 4                      O O O O O O O O O O O O O O O   \n",
              "83  Sentence: 5  O O O O O O O O O O O B-geo O O B-org I-org O ...   \n",
              "\n",
              "                                             Sentence  \n",
              "0   Thousands of demonstrators have marched throug...  \n",
              "24  Families of soldiers killed in the conflict jo...  \n",
              "54  They marched from the Houses of Parliament to ...  \n",
              "68  Police put the number of marchers at 10,000 wh...  \n",
              "83  The protest comes on the eve of the annual con...  "
            ],
            "text/html": [
              "\n",
              "  <div id=\"df-c6d60eec-fcf3-4de3-a47d-3bec0d6e57b0\">\n",
              "    <div class=\"colab-df-container\">\n",
              "      <div>\n",
              "<style scoped>\n",
              "    .dataframe tbody tr th:only-of-type {\n",
              "        vertical-align: middle;\n",
              "    }\n",
              "\n",
              "    .dataframe tbody tr th {\n",
              "        vertical-align: top;\n",
              "    }\n",
              "\n",
              "    .dataframe thead th {\n",
              "        text-align: right;\n",
              "    }\n",
              "</style>\n",
              "<table border=\"1\" class=\"dataframe\">\n",
              "  <thead>\n",
              "    <tr style=\"text-align: right;\">\n",
              "      <th></th>\n",
              "      <th>Sentence #</th>\n",
              "      <th>Tag</th>\n",
              "      <th>Sentence</th>\n",
              "    </tr>\n",
              "  </thead>\n",
              "  <tbody>\n",
              "    <tr>\n",
              "      <th>0</th>\n",
              "      <td>Sentence: 1</td>\n",
              "      <td>O O O O O O B-geo O O O O O B-geo O O O O O B-...</td>\n",
              "      <td>Thousands of demonstrators have marched throug...</td>\n",
              "    </tr>\n",
              "    <tr>\n",
              "      <th>24</th>\n",
              "      <td>Sentence: 2</td>\n",
              "      <td>O O O O O O O O O O O O O O O O O O B-per O O ...</td>\n",
              "      <td>Families of soldiers killed in the conflict jo...</td>\n",
              "    </tr>\n",
              "    <tr>\n",
              "      <th>54</th>\n",
              "      <td>Sentence: 3</td>\n",
              "      <td>O O O O O O O O O O O B-geo I-geo O</td>\n",
              "      <td>They marched from the Houses of Parliament to ...</td>\n",
              "    </tr>\n",
              "    <tr>\n",
              "      <th>68</th>\n",
              "      <td>Sentence: 4</td>\n",
              "      <td>O O O O O O O O O O O O O O O</td>\n",
              "      <td>Police put the number of marchers at 10,000 wh...</td>\n",
              "    </tr>\n",
              "    <tr>\n",
              "      <th>83</th>\n",
              "      <td>Sentence: 5</td>\n",
              "      <td>O O O O O O O O O O O B-geo O O B-org I-org O ...</td>\n",
              "      <td>The protest comes on the eve of the annual con...</td>\n",
              "    </tr>\n",
              "  </tbody>\n",
              "</table>\n",
              "</div>\n",
              "      <button class=\"colab-df-convert\" onclick=\"convertToInteractive('df-c6d60eec-fcf3-4de3-a47d-3bec0d6e57b0')\"\n",
              "              title=\"Convert this dataframe to an interactive table.\"\n",
              "              style=\"display:none;\">\n",
              "        \n",
              "  <svg xmlns=\"http://www.w3.org/2000/svg\" height=\"24px\"viewBox=\"0 0 24 24\"\n",
              "       width=\"24px\">\n",
              "    <path d=\"M0 0h24v24H0V0z\" fill=\"none\"/>\n",
              "    <path d=\"M18.56 5.44l.94 2.06.94-2.06 2.06-.94-2.06-.94-.94-2.06-.94 2.06-2.06.94zm-11 1L8.5 8.5l.94-2.06 2.06-.94-2.06-.94L8.5 2.5l-.94 2.06-2.06.94zm10 10l.94 2.06.94-2.06 2.06-.94-2.06-.94-.94-2.06-.94 2.06-2.06.94z\"/><path d=\"M17.41 7.96l-1.37-1.37c-.4-.4-.92-.59-1.43-.59-.52 0-1.04.2-1.43.59L10.3 9.45l-7.72 7.72c-.78.78-.78 2.05 0 2.83L4 21.41c.39.39.9.59 1.41.59.51 0 1.02-.2 1.41-.59l7.78-7.78 2.81-2.81c.8-.78.8-2.07 0-2.86zM5.41 20L4 18.59l7.72-7.72 1.47 1.35L5.41 20z\"/>\n",
              "  </svg>\n",
              "      </button>\n",
              "      \n",
              "  <style>\n",
              "    .colab-df-container {\n",
              "      display:flex;\n",
              "      flex-wrap:wrap;\n",
              "      gap: 12px;\n",
              "    }\n",
              "\n",
              "    .colab-df-convert {\n",
              "      background-color: #E8F0FE;\n",
              "      border: none;\n",
              "      border-radius: 50%;\n",
              "      cursor: pointer;\n",
              "      display: none;\n",
              "      fill: #1967D2;\n",
              "      height: 32px;\n",
              "      padding: 0 0 0 0;\n",
              "      width: 32px;\n",
              "    }\n",
              "\n",
              "    .colab-df-convert:hover {\n",
              "      background-color: #E2EBFA;\n",
              "      box-shadow: 0px 1px 2px rgba(60, 64, 67, 0.3), 0px 1px 3px 1px rgba(60, 64, 67, 0.15);\n",
              "      fill: #174EA6;\n",
              "    }\n",
              "\n",
              "    [theme=dark] .colab-df-convert {\n",
              "      background-color: #3B4455;\n",
              "      fill: #D2E3FC;\n",
              "    }\n",
              "\n",
              "    [theme=dark] .colab-df-convert:hover {\n",
              "      background-color: #434B5C;\n",
              "      box-shadow: 0px 1px 3px 1px rgba(0, 0, 0, 0.15);\n",
              "      filter: drop-shadow(0px 1px 2px rgba(0, 0, 0, 0.3));\n",
              "      fill: #FFFFFF;\n",
              "    }\n",
              "  </style>\n",
              "\n",
              "      <script>\n",
              "        const buttonEl =\n",
              "          document.querySelector('#df-c6d60eec-fcf3-4de3-a47d-3bec0d6e57b0 button.colab-df-convert');\n",
              "        buttonEl.style.display =\n",
              "          google.colab.kernel.accessAllowed ? 'block' : 'none';\n",
              "\n",
              "        async function convertToInteractive(key) {\n",
              "          const element = document.querySelector('#df-c6d60eec-fcf3-4de3-a47d-3bec0d6e57b0');\n",
              "          const dataTable =\n",
              "            await google.colab.kernel.invokeFunction('convertToInteractive',\n",
              "                                                     [key], {});\n",
              "          if (!dataTable) return;\n",
              "\n",
              "          const docLinkHtml = 'Like what you see? Visit the ' +\n",
              "            '<a target=\"_blank\" href=https://colab.research.google.com/notebooks/data_table.ipynb>data table notebook</a>'\n",
              "            + ' to learn more about interactive tables.';\n",
              "          element.innerHTML = '';\n",
              "          dataTable['output_type'] = 'display_data';\n",
              "          await google.colab.output.renderOutput(dataTable, element);\n",
              "          const docLink = document.createElement('div');\n",
              "          docLink.innerHTML = docLinkHtml;\n",
              "          element.appendChild(docLink);\n",
              "        }\n",
              "      </script>\n",
              "    </div>\n",
              "  </div>\n",
              "  "
            ]
          },
          "metadata": {},
          "execution_count": 17
        }
      ]
    },
    {
      "cell_type": "code",
      "source": [
        ""
      ],
      "metadata": {
        "id": "A2w_Xf8TuPz6"
      },
      "execution_count": null,
      "outputs": []
    },
    {
      "cell_type": "markdown",
      "source": [
        "## Data Preprocessing"
      ],
      "metadata": {
        "id": "OiSvUSR-wkK_"
      }
    },
    {
      "cell_type": "code",
      "source": [
        "X = list(data1['Sentence'])\n",
        "Y = list(data1['Tag'])"
      ],
      "metadata": {
        "execution": {
          "iopub.status.busy": "2022-01-15T16:28:13.728076Z",
          "iopub.execute_input": "2022-01-15T16:28:13.728361Z",
          "iopub.status.idle": "2022-01-15T16:28:13.749368Z",
          "shell.execute_reply.started": "2022-01-15T16:28:13.728328Z",
          "shell.execute_reply": "2022-01-15T16:28:13.748766Z"
        },
        "trusted": true,
        "id": "sioTt6HYwkLB"
      },
      "execution_count": 18,
      "outputs": []
    },
    {
      "cell_type": "code",
      "source": [
        "X[:3]"
      ],
      "metadata": {
        "colab": {
          "base_uri": "https://localhost:8080/"
        },
        "id": "A2FMKR3kjX3o",
        "outputId": "b6d0ab28-17c2-421c-9654-bbc7a3eb42b5"
      },
      "execution_count": 19,
      "outputs": [
        {
          "output_type": "execute_result",
          "data": {
            "text/plain": [
              "['Thousands of demonstrators have marched through London to protest the war in Iraq and demand the withdrawal of British troops from that country .',\n",
              " 'Families of soldiers killed in the conflict joined the protesters who carried banners with such slogans as \" Bush Number One Terrorist \" and \" Stop the Bombings . \"',\n",
              " 'They marched from the Houses of Parliament to a rally in Hyde Park .']"
            ]
          },
          "metadata": {},
          "execution_count": 19
        }
      ]
    },
    {
      "cell_type": "code",
      "source": [
        "Y[:3]"
      ],
      "metadata": {
        "colab": {
          "base_uri": "https://localhost:8080/"
        },
        "id": "w9EgdFAdhZqh",
        "outputId": "7ffc52be-6216-41d6-f1a3-7ae94c4a4874"
      },
      "execution_count": 20,
      "outputs": [
        {
          "output_type": "execute_result",
          "data": {
            "text/plain": [
              "['O O O O O O B-geo O O O O O B-geo O O O O O B-gpe O O O O O',\n",
              " 'O O O O O O O O O O O O O O O O O O B-per O O O O O O O O O O O',\n",
              " 'O O O O O O O O O O O B-geo I-geo O']"
            ]
          },
          "metadata": {},
          "execution_count": 20
        }
      ]
    },
    {
      "cell_type": "code",
      "source": [
        "Y1 = []\n",
        "\n",
        "for sen_tags in Y:\n",
        "    Y1.append(sen_tags.split())"
      ],
      "metadata": {
        "id": "cLb9HP44npIs"
      },
      "execution_count": 21,
      "outputs": []
    },
    {
      "cell_type": "code",
      "source": [
        "Y1[:2]"
      ],
      "metadata": {
        "colab": {
          "base_uri": "https://localhost:8080/"
        },
        "id": "C9GcEPdun-ql",
        "outputId": "b9288133-a8a0-4755-e530-e4aba815b4a7"
      },
      "execution_count": 22,
      "outputs": [
        {
          "output_type": "execute_result",
          "data": {
            "text/plain": [
              "[['O',\n",
              "  'O',\n",
              "  'O',\n",
              "  'O',\n",
              "  'O',\n",
              "  'O',\n",
              "  'B-geo',\n",
              "  'O',\n",
              "  'O',\n",
              "  'O',\n",
              "  'O',\n",
              "  'O',\n",
              "  'B-geo',\n",
              "  'O',\n",
              "  'O',\n",
              "  'O',\n",
              "  'O',\n",
              "  'O',\n",
              "  'B-gpe',\n",
              "  'O',\n",
              "  'O',\n",
              "  'O',\n",
              "  'O',\n",
              "  'O'],\n",
              " ['O',\n",
              "  'O',\n",
              "  'O',\n",
              "  'O',\n",
              "  'O',\n",
              "  'O',\n",
              "  'O',\n",
              "  'O',\n",
              "  'O',\n",
              "  'O',\n",
              "  'O',\n",
              "  'O',\n",
              "  'O',\n",
              "  'O',\n",
              "  'O',\n",
              "  'O',\n",
              "  'O',\n",
              "  'O',\n",
              "  'B-per',\n",
              "  'O',\n",
              "  'O',\n",
              "  'O',\n",
              "  'O',\n",
              "  'O',\n",
              "  'O',\n",
              "  'O',\n",
              "  'O',\n",
              "  'O',\n",
              "  'O',\n",
              "  'O']]"
            ]
          },
          "metadata": {},
          "execution_count": 22
        }
      ]
    },
    {
      "cell_type": "code",
      "source": [
        ""
      ],
      "metadata": {
        "id": "ceamNbxQi6Hj"
      },
      "execution_count": null,
      "outputs": []
    },
    {
      "cell_type": "markdown",
      "source": [
        "### Tokenize the input sentences by mapping each word to a unique identifier, then padding the sentences to the same lenghth."
      ],
      "metadata": {
        "id": "v5v1Fm8mwkLC"
      }
    },
    {
      "cell_type": "code",
      "source": [
        "from tensorflow.keras.preprocessing.text import Tokenizer\n",
        "from tensorflow.keras.preprocessing.sequence import pad_sequences"
      ],
      "metadata": {
        "execution": {
          "iopub.status.busy": "2022-01-15T16:28:18.521033Z",
          "iopub.execute_input": "2022-01-15T16:28:18.521711Z",
          "iopub.status.idle": "2022-01-15T16:28:19.383639Z",
          "shell.execute_reply.started": "2022-01-15T16:28:18.521672Z",
          "shell.execute_reply": "2022-01-15T16:28:19.382869Z"
        },
        "trusted": true,
        "id": "or-kuL6twkLC"
      },
      "execution_count": 23,
      "outputs": []
    },
    {
      "cell_type": "code",
      "source": [
        "print(\"Number of examples: {}\".format(len(X)))"
      ],
      "metadata": {
        "execution": {
          "iopub.status.busy": "2022-01-15T16:28:19.385373Z",
          "iopub.execute_input": "2022-01-15T16:28:19.385612Z",
          "iopub.status.idle": "2022-01-15T16:28:19.394684Z",
          "shell.execute_reply.started": "2022-01-15T16:28:19.38558Z",
          "shell.execute_reply": "2022-01-15T16:28:19.393337Z"
        },
        "trusted": true,
        "id": "vdDuyYiCwkLC",
        "colab": {
          "base_uri": "https://localhost:8080/"
        },
        "outputId": "afa21ae2-e973-4843-e790-95f21a790225"
      },
      "execution_count": 24,
      "outputs": [
        {
          "output_type": "stream",
          "name": "stdout",
          "text": [
            "Number of examples: 47959\n"
          ]
        }
      ]
    },
    {
      "cell_type": "markdown",
      "source": [
        "Toknizing sentences"
      ],
      "metadata": {
        "id": "utrlEFGOwkLD"
      }
    },
    {
      "cell_type": "code",
      "source": [
        "# cutoff sentences after 110 words\n",
        "maxlen = 110\n",
        "\n",
        "# consider the top 36000 words in the dataset\n",
        "max_words = 36000\n",
        "\n",
        "# tokenize each sentence in the dataset\n",
        "tokenizer = Tokenizer(num_words=max_words)\n",
        "tokenizer.fit_on_texts(X)\n",
        "sequences = tokenizer.texts_to_sequences(X)"
      ],
      "metadata": {
        "execution": {
          "iopub.status.busy": "2022-01-15T16:28:20.760867Z",
          "iopub.execute_input": "2022-01-15T16:28:20.761422Z",
          "iopub.status.idle": "2022-01-15T16:28:22.891782Z",
          "shell.execute_reply.started": "2022-01-15T16:28:20.761383Z",
          "shell.execute_reply": "2022-01-15T16:28:22.891075Z"
        },
        "trusted": true,
        "id": "HNW2TzZ7wkLD"
      },
      "execution_count": 25,
      "outputs": []
    },
    {
      "cell_type": "code",
      "source": [
        "word_index = tokenizer.word_index\n",
        "print(\"Found {} unique tokens.\".format(len(word_index)))\n",
        "ind2word = dict([(value, key) for (key, value) in word_index.items()])"
      ],
      "metadata": {
        "execution": {
          "iopub.status.busy": "2022-01-15T16:28:22.896523Z",
          "iopub.execute_input": "2022-01-15T16:28:22.898546Z",
          "iopub.status.idle": "2022-01-15T16:28:22.9202Z",
          "shell.execute_reply.started": "2022-01-15T16:28:22.898505Z",
          "shell.execute_reply": "2022-01-15T16:28:22.919531Z"
        },
        "trusted": true,
        "id": "yjC_6hiGwkLD",
        "colab": {
          "base_uri": "https://localhost:8080/"
        },
        "outputId": "566e11f4-5129-4edb-a76e-94c5e38d830a"
      },
      "execution_count": 26,
      "outputs": [
        {
          "output_type": "stream",
          "name": "stdout",
          "text": [
            "Found 27953 unique tokens.\n"
          ]
        }
      ]
    },
    {
      "cell_type": "code",
      "source": [
        "word2id = word_index"
      ],
      "metadata": {
        "execution": {
          "iopub.status.busy": "2022-01-15T16:28:22.924552Z",
          "iopub.execute_input": "2022-01-15T16:28:22.92684Z",
          "iopub.status.idle": "2022-01-15T16:28:22.931689Z",
          "shell.execute_reply.started": "2022-01-15T16:28:22.926789Z",
          "shell.execute_reply": "2022-01-15T16:28:22.931071Z"
        },
        "trusted": true,
        "id": "qtUcRBEIwkLD"
      },
      "execution_count": 27,
      "outputs": []
    },
    {
      "cell_type": "code",
      "source": [
        "# dict. that map each identifier to its word\n",
        "id2word = {}\n",
        "for key, value in word2id.items():\n",
        "    id2word[value] = key"
      ],
      "metadata": {
        "execution": {
          "iopub.status.busy": "2022-01-15T16:28:24.226694Z",
          "iopub.execute_input": "2022-01-15T16:28:24.227475Z",
          "iopub.status.idle": "2022-01-15T16:28:24.247212Z",
          "shell.execute_reply.started": "2022-01-15T16:28:24.227428Z",
          "shell.execute_reply": "2022-01-15T16:28:24.246437Z"
        },
        "trusted": true,
        "id": "Je8T5lNJwkLE"
      },
      "execution_count": 28,
      "outputs": []
    },
    {
      "cell_type": "markdown",
      "source": [
        "Padding sentences"
      ],
      "metadata": {
        "id": "4Nb1ncegwkLE"
      }
    },
    {
      "cell_type": "code",
      "source": [
        "# pad the sequences so that all sequences are of the same size\n",
        "X_preprocessed = pad_sequences(sequences, maxlen=maxlen, padding='post')"
      ],
      "metadata": {
        "execution": {
          "iopub.status.busy": "2022-01-15T16:28:25.189273Z",
          "iopub.execute_input": "2022-01-15T16:28:25.189794Z",
          "iopub.status.idle": "2022-01-15T16:28:25.603874Z",
          "shell.execute_reply.started": "2022-01-15T16:28:25.189757Z",
          "shell.execute_reply": "2022-01-15T16:28:25.603159Z"
        },
        "trusted": true,
        "id": "_NBy7yBzwkLE"
      },
      "execution_count": 29,
      "outputs": []
    },
    {
      "cell_type": "code",
      "source": [
        "# first example after tokenization and padding. \n",
        "X_preprocessed[0]"
      ],
      "metadata": {
        "execution": {
          "iopub.status.busy": "2022-01-15T16:28:25.605249Z",
          "iopub.execute_input": "2022-01-15T16:28:25.605524Z",
          "iopub.status.idle": "2022-01-15T16:28:25.615829Z",
          "shell.execute_reply.started": "2022-01-15T16:28:25.605489Z",
          "shell.execute_reply": "2022-01-15T16:28:25.615089Z"
        },
        "trusted": true,
        "id": "FkbRObHewkLE",
        "colab": {
          "base_uri": "https://localhost:8080/"
        },
        "outputId": "81f0b5f0-ccb2-47bb-b216-eeb33c3f0985"
      },
      "execution_count": 30,
      "outputs": [
        {
          "output_type": "execute_result",
          "data": {
            "text/plain": [
              "array([ 260,    3,  997,   13, 1838,  245,  452,    4,  545,    1,  121,\n",
              "          2,   60,    6,  595,    1,  861,    3,  184,   89,   21,   12,\n",
              "         54,    0,    0,    0,    0,    0,    0,    0,    0,    0,    0,\n",
              "          0,    0,    0,    0,    0,    0,    0,    0,    0,    0,    0,\n",
              "          0,    0,    0,    0,    0,    0,    0,    0,    0,    0,    0,\n",
              "          0,    0,    0,    0,    0,    0,    0,    0,    0,    0,    0,\n",
              "          0,    0,    0,    0,    0,    0,    0,    0,    0,    0,    0,\n",
              "          0,    0,    0,    0,    0,    0,    0,    0,    0,    0,    0,\n",
              "          0,    0,    0,    0,    0,    0,    0,    0,    0,    0,    0,\n",
              "          0,    0,    0,    0,    0,    0,    0,    0,    0,    0,    0],\n",
              "      dtype=int32)"
            ]
          },
          "metadata": {},
          "execution_count": 30
        }
      ]
    },
    {
      "cell_type": "code",
      "source": [
        "# 22479 example after tokenization and padding. \n",
        "X_preprocessed[22479]"
      ],
      "metadata": {
        "execution": {
          "iopub.status.busy": "2022-01-15T16:28:25.663405Z",
          "iopub.execute_input": "2022-01-15T16:28:25.663592Z",
          "iopub.status.idle": "2022-01-15T16:28:25.671193Z",
          "shell.execute_reply.started": "2022-01-15T16:28:25.66357Z",
          "shell.execute_reply": "2022-01-15T16:28:25.670199Z"
        },
        "trusted": true,
        "id": "E8bYL6bNwkLF",
        "colab": {
          "base_uri": "https://localhost:8080/"
        },
        "outputId": "4c111807-3451-4f51-ee46-a8f1501bd62c"
      },
      "execution_count": 31,
      "outputs": [
        {
          "output_type": "execute_result",
          "data": {
            "text/plain": [
              "array([ 9811,     2,   640,   454,  2760,   155,   944, 15986,  5319,\n",
              "        1941,     3,    61,  4900,   155,  4877, 22425,  1941,    17,\n",
              "       13036, 22426, 22427,     6,   699,   325,   428, 22428,  1941,\n",
              "       13142, 13143, 22429, 22430,    47,   381,    25,  2859,   907,\n",
              "       22431,  2166,     4,   155,  1229, 22432,  1941,     2,   754,\n",
              "         629,     3,    61,  4899,   155,   975, 22433,  1941,    17,\n",
              "       13036,     6,   699,   454,   428, 22434,  1941, 13142, 13143,\n",
              "        1033,  1453,    21,     1,   257,  3560,    22,     1,  4417,\n",
              "           3,     1,  5701,     3,  3783,  2111,  1028,  1243, 22435,\n",
              "          61,  6936,  2197,  3486,     1,   135,  1185,   257,     0,\n",
              "           0,     0,     0,     0,     0,     0,     0,     0,     0,\n",
              "           0,     0,     0,     0,     0,     0,     0,     0,     0,\n",
              "           0,     0], dtype=int32)"
            ]
          },
          "metadata": {},
          "execution_count": 31
        }
      ]
    },
    {
      "cell_type": "markdown",
      "source": [
        "Preprocessing tags by assigning a unique identifier for each one of them: \n",
        "\n",
        "- Use the O tag to pad the tag list. \n",
        "\n"
      ],
      "metadata": {
        "id": "Xcr2A3CuwkLG"
      }
    },
    {
      "cell_type": "code",
      "source": [
        "# dict. that map each tag to its identifier\n",
        "tags2id = {}\n",
        "for i, tag in enumerate(tags):\n",
        "    tags2id[tag] = i"
      ],
      "metadata": {
        "execution": {
          "iopub.status.busy": "2022-01-15T16:28:28.494629Z",
          "iopub.execute_input": "2022-01-15T16:28:28.495178Z",
          "iopub.status.idle": "2022-01-15T16:28:28.498879Z",
          "shell.execute_reply.started": "2022-01-15T16:28:28.495124Z",
          "shell.execute_reply": "2022-01-15T16:28:28.498237Z"
        },
        "trusted": true,
        "id": "X7feBjfSwkLG"
      },
      "execution_count": 32,
      "outputs": []
    },
    {
      "cell_type": "code",
      "source": [
        "tags2id"
      ],
      "metadata": {
        "execution": {
          "iopub.status.busy": "2022-01-15T16:28:28.653496Z",
          "iopub.execute_input": "2022-01-15T16:28:28.653939Z",
          "iopub.status.idle": "2022-01-15T16:28:28.659892Z",
          "shell.execute_reply.started": "2022-01-15T16:28:28.653898Z",
          "shell.execute_reply": "2022-01-15T16:28:28.659136Z"
        },
        "trusted": true,
        "id": "-jFOKfepwkLG",
        "colab": {
          "base_uri": "https://localhost:8080/"
        },
        "outputId": "06bc1a08-a6a4-4b23-deaa-f607eaec4be0"
      },
      "execution_count": 33,
      "outputs": [
        {
          "output_type": "execute_result",
          "data": {
            "text/plain": [
              "{'B-art': 8,\n",
              " 'B-eve': 14,\n",
              " 'B-geo': 1,\n",
              " 'B-gpe': 2,\n",
              " 'B-nat': 13,\n",
              " 'B-org': 5,\n",
              " 'B-per': 3,\n",
              " 'B-tim': 7,\n",
              " 'I-art': 9,\n",
              " 'I-eve': 15,\n",
              " 'I-geo': 4,\n",
              " 'I-gpe': 11,\n",
              " 'I-nat': 16,\n",
              " 'I-org': 6,\n",
              " 'I-per': 10,\n",
              " 'I-tim': 12,\n",
              " 'O': 0}"
            ]
          },
          "metadata": {},
          "execution_count": 33
        }
      ]
    },
    {
      "cell_type": "code",
      "source": [
        "# dict. that map each identifier to its tag\n",
        "id2tag = {}\n",
        "for key, value in tags2id.items():\n",
        "    id2tag[value] = key"
      ],
      "metadata": {
        "execution": {
          "iopub.status.busy": "2022-01-15T16:28:29.56033Z",
          "iopub.execute_input": "2022-01-15T16:28:29.560649Z",
          "iopub.status.idle": "2022-01-15T16:28:29.565407Z",
          "shell.execute_reply.started": "2022-01-15T16:28:29.560612Z",
          "shell.execute_reply": "2022-01-15T16:28:29.564631Z"
        },
        "trusted": true,
        "id": "IysVQzuswkLH"
      },
      "execution_count": 34,
      "outputs": []
    },
    {
      "cell_type": "code",
      "source": [
        "id2tag"
      ],
      "metadata": {
        "scrolled": true,
        "execution": {
          "iopub.status.busy": "2022-01-15T16:28:29.758337Z",
          "iopub.execute_input": "2022-01-15T16:28:29.75886Z",
          "iopub.status.idle": "2022-01-15T16:28:29.764454Z",
          "shell.execute_reply.started": "2022-01-15T16:28:29.758829Z",
          "shell.execute_reply": "2022-01-15T16:28:29.763728Z"
        },
        "trusted": true,
        "id": "Id4VrC4-wkLH",
        "colab": {
          "base_uri": "https://localhost:8080/"
        },
        "outputId": "ae900a56-5dcb-48b3-eea4-d97ade4497f9"
      },
      "execution_count": 35,
      "outputs": [
        {
          "output_type": "execute_result",
          "data": {
            "text/plain": [
              "{0: 'O',\n",
              " 1: 'B-geo',\n",
              " 2: 'B-gpe',\n",
              " 3: 'B-per',\n",
              " 4: 'I-geo',\n",
              " 5: 'B-org',\n",
              " 6: 'I-org',\n",
              " 7: 'B-tim',\n",
              " 8: 'B-art',\n",
              " 9: 'I-art',\n",
              " 10: 'I-per',\n",
              " 11: 'I-gpe',\n",
              " 12: 'I-tim',\n",
              " 13: 'B-nat',\n",
              " 14: 'B-eve',\n",
              " 15: 'I-eve',\n",
              " 16: 'I-nat'}"
            ]
          },
          "metadata": {},
          "execution_count": 35
        }
      ]
    },
    {
      "cell_type": "code",
      "source": [
        "def preprocess_tags(tags2id, Y1):\n",
        "    \n",
        "    Y_preprocessed = []\n",
        "    maxlen = 110\n",
        "    # for each target \n",
        "    for y in Y1:\n",
        "        \n",
        "        # place holder to store the new preprocessed tag list\n",
        "        Y_place_holder = []\n",
        "        \n",
        "        # for each tag in the tag list \n",
        "        for tag in y:\n",
        "            # append the idx of the tag in the place holder list\n",
        "            Y_place_holder.append(tags2id[tag])\n",
        "        \n",
        "        # find the length of the new preprocessed tag list \n",
        "        len_new_tag_list = len(Y_place_holder)\n",
        "        # find the differance in length between the len of tag list and padded sentences\n",
        "        num_O_to_add = maxlen - len_new_tag_list\n",
        "        \n",
        "        # add 'O's to padd the tag lists\n",
        "        padded_tags = Y_place_holder + ([tags2id['O']] * num_O_to_add)\n",
        "        Y_preprocessed.append(padded_tags)\n",
        "        \n",
        "    return Y_preprocessed"
      ],
      "metadata": {
        "execution": {
          "iopub.status.busy": "2022-01-15T16:28:29.958962Z",
          "iopub.execute_input": "2022-01-15T16:28:29.959207Z",
          "iopub.status.idle": "2022-01-15T16:28:29.964995Z",
          "shell.execute_reply.started": "2022-01-15T16:28:29.959161Z",
          "shell.execute_reply": "2022-01-15T16:28:29.964189Z"
        },
        "trusted": true,
        "id": "kWXTZ-ZIwkLH"
      },
      "execution_count": 36,
      "outputs": []
    },
    {
      "cell_type": "code",
      "source": [
        "Y_preprocessed = preprocess_tags(tags2id, Y1)"
      ],
      "metadata": {
        "execution": {
          "iopub.status.busy": "2022-01-15T16:28:30.748738Z",
          "iopub.execute_input": "2022-01-15T16:28:30.748993Z",
          "iopub.status.idle": "2022-01-15T16:28:30.98637Z",
          "shell.execute_reply.started": "2022-01-15T16:28:30.748964Z",
          "shell.execute_reply": "2022-01-15T16:28:30.985312Z"
        },
        "trusted": true,
        "id": "6-q0ZUtZwkLH"
      },
      "execution_count": 37,
      "outputs": []
    },
    {
      "cell_type": "code",
      "source": [
        "print(Y_preprocessed[0])"
      ],
      "metadata": {
        "execution": {
          "iopub.status.busy": "2022-01-15T16:28:31.001246Z",
          "iopub.execute_input": "2022-01-15T16:28:31.00146Z",
          "iopub.status.idle": "2022-01-15T16:28:31.005942Z",
          "shell.execute_reply.started": "2022-01-15T16:28:31.001433Z",
          "shell.execute_reply": "2022-01-15T16:28:31.005271Z"
        },
        "trusted": true,
        "id": "3kX2m4tOwkLI",
        "colab": {
          "base_uri": "https://localhost:8080/"
        },
        "outputId": "ba530553-1de9-4de8-e868-97b1f14f5142"
      },
      "execution_count": 38,
      "outputs": [
        {
          "output_type": "stream",
          "name": "stdout",
          "text": [
            "[0, 0, 0, 0, 0, 0, 1, 0, 0, 0, 0, 0, 1, 0, 0, 0, 0, 0, 2, 0, 0, 0, 0, 0, 0, 0, 0, 0, 0, 0, 0, 0, 0, 0, 0, 0, 0, 0, 0, 0, 0, 0, 0, 0, 0, 0, 0, 0, 0, 0, 0, 0, 0, 0, 0, 0, 0, 0, 0, 0, 0, 0, 0, 0, 0, 0, 0, 0, 0, 0, 0, 0, 0, 0, 0, 0, 0, 0, 0, 0, 0, 0, 0, 0, 0, 0, 0, 0, 0, 0, 0, 0, 0, 0, 0, 0, 0, 0, 0, 0, 0, 0, 0, 0, 0, 0, 0, 0, 0, 0]\n"
          ]
        }
      ]
    },
    {
      "cell_type": "code",
      "source": [
        "print(Y1[0])"
      ],
      "metadata": {
        "execution": {
          "iopub.status.busy": "2022-01-15T16:28:31.994074Z",
          "iopub.execute_input": "2022-01-15T16:28:31.99478Z",
          "iopub.status.idle": "2022-01-15T16:28:32.002239Z",
          "shell.execute_reply.started": "2022-01-15T16:28:31.994742Z",
          "shell.execute_reply": "2022-01-15T16:28:32.001446Z"
        },
        "trusted": true,
        "id": "AnZ893FFwkLI",
        "colab": {
          "base_uri": "https://localhost:8080/"
        },
        "outputId": "f091784d-8949-4500-a197-38ea90cf01a8"
      },
      "execution_count": 39,
      "outputs": [
        {
          "output_type": "stream",
          "name": "stdout",
          "text": [
            "['O', 'O', 'O', 'O', 'O', 'O', 'B-geo', 'O', 'O', 'O', 'O', 'O', 'B-geo', 'O', 'O', 'O', 'O', 'O', 'B-gpe', 'O', 'O', 'O', 'O', 'O']\n"
          ]
        }
      ]
    },
    {
      "cell_type": "markdown",
      "source": [
        "### Preprocessed Data shuffling and splitting for train, validate and test"
      ],
      "metadata": {
        "id": "4QxtMY9-wkLI"
      }
    },
    {
      "cell_type": "code",
      "source": [
        "print(\"The Lenght of training examples: {}\".format(len(X_preprocessed)))\n",
        "print(\"The Lenght of training targets: {}\".format(len(Y_preprocessed)))"
      ],
      "metadata": {
        "execution": {
          "iopub.status.busy": "2022-01-15T16:28:33.782269Z",
          "iopub.execute_input": "2022-01-15T16:28:33.782947Z",
          "iopub.status.idle": "2022-01-15T16:28:33.789623Z",
          "shell.execute_reply.started": "2022-01-15T16:28:33.782893Z",
          "shell.execute_reply": "2022-01-15T16:28:33.788713Z"
        },
        "trusted": true,
        "id": "rIGMGO2dwkLJ",
        "colab": {
          "base_uri": "https://localhost:8080/"
        },
        "outputId": "72ed2cf7-4411-421a-8efe-678f8808e7c7"
      },
      "execution_count": 40,
      "outputs": [
        {
          "output_type": "stream",
          "name": "stdout",
          "text": [
            "The Lenght of training examples: 47959\n",
            "The Lenght of training targets: 47959\n"
          ]
        }
      ]
    },
    {
      "cell_type": "code",
      "source": [
        "X_preprocessed = np.asarray(X_preprocessed)\n",
        "Y_preprocessed = np.asarray(Y_preprocessed)"
      ],
      "metadata": {
        "execution": {
          "iopub.status.busy": "2022-01-15T16:28:34.064779Z",
          "iopub.execute_input": "2022-01-15T16:28:34.065115Z",
          "iopub.status.idle": "2022-01-15T16:28:35.13735Z",
          "shell.execute_reply.started": "2022-01-15T16:28:34.065085Z",
          "shell.execute_reply": "2022-01-15T16:28:35.136336Z"
        },
        "trusted": true,
        "id": "sKUdYK2rwkLJ"
      },
      "execution_count": 41,
      "outputs": []
    },
    {
      "cell_type": "code",
      "source": [
        "# 70% of the datat will be used for training \n",
        "training_samples = 0.7\n",
        "# 15% of the datat will be used for validation \n",
        "validation_samples = 0.15\n",
        "# 15% of the datat will be used for testing \n",
        "testing_samples = 0.15"
      ],
      "metadata": {
        "execution": {
          "iopub.status.busy": "2022-01-15T16:28:35.141964Z",
          "iopub.execute_input": "2022-01-15T16:28:35.144045Z",
          "iopub.status.idle": "2022-01-15T16:28:35.149819Z",
          "shell.execute_reply.started": "2022-01-15T16:28:35.143994Z",
          "shell.execute_reply": "2022-01-15T16:28:35.148844Z"
        },
        "trusted": true,
        "id": "CEKw4EENwkLK"
      },
      "execution_count": 42,
      "outputs": []
    },
    {
      "cell_type": "code",
      "source": [
        "indices = np.arange(len(Y_preprocessed))"
      ],
      "metadata": {
        "execution": {
          "iopub.status.busy": "2022-01-15T16:28:35.154689Z",
          "iopub.execute_input": "2022-01-15T16:28:35.157309Z",
          "iopub.status.idle": "2022-01-15T16:28:35.163459Z",
          "shell.execute_reply.started": "2022-01-15T16:28:35.157267Z",
          "shell.execute_reply": "2022-01-15T16:28:35.162119Z"
        },
        "trusted": true,
        "id": "E4oqDtJqwkLK"
      },
      "execution_count": 43,
      "outputs": []
    },
    {
      "cell_type": "code",
      "source": [
        "np.random.seed(seed=555)\n",
        "np.random.shuffle(indices)"
      ],
      "metadata": {
        "execution": {
          "iopub.status.busy": "2022-01-15T16:28:35.170578Z",
          "iopub.execute_input": "2022-01-15T16:28:35.171633Z",
          "iopub.status.idle": "2022-01-15T16:28:35.180716Z",
          "shell.execute_reply.started": "2022-01-15T16:28:35.171592Z",
          "shell.execute_reply": "2022-01-15T16:28:35.17984Z"
        },
        "trusted": true,
        "id": "0iyDGrTxwkLK"
      },
      "execution_count": 44,
      "outputs": []
    },
    {
      "cell_type": "code",
      "source": [
        "X_preprocessed = X_preprocessed[indices]\n",
        "Y_preprocessed = Y_preprocessed[indices]"
      ],
      "metadata": {
        "execution": {
          "iopub.status.busy": "2022-01-15T16:28:35.185104Z",
          "iopub.execute_input": "2022-01-15T16:28:35.186473Z",
          "iopub.status.idle": "2022-01-15T16:28:35.225648Z",
          "shell.execute_reply.started": "2022-01-15T16:28:35.186428Z",
          "shell.execute_reply": "2022-01-15T16:28:35.224798Z"
        },
        "trusted": true,
        "id": "YMdWsiH_wkLL"
      },
      "execution_count": 45,
      "outputs": []
    },
    {
      "cell_type": "code",
      "source": [
        "X_train = X_preprocessed[: int(0.7 * len(X_preprocessed))]\n",
        "print(\"Number of training examples: {}\".format(len(X_train)))\n",
        "\n",
        "\n",
        "X_val = X_preprocessed[int(0.7 * len(X_preprocessed)) : int(0.7 * len(X_preprocessed)) + (int(0.15 * len(X_preprocessed)) + 1)]\n",
        "print(\"Number of validation examples: {}\".format(len(X_val)))\n",
        "\n",
        "\n",
        "X_test = X_preprocessed[int(0.7 * len(X_preprocessed)) + (int(0.15 * len(X_preprocessed)) + 1) : ]\n",
        "print(\"Number of testing examples: {}\".format(len(X_test)))\n",
        "\n",
        "\n",
        "\n",
        "Y_train = Y_preprocessed[: int(0.7 * len(X_preprocessed))]\n",
        "Y_val = Y_preprocessed[int(0.7 * len(X_preprocessed)) : int(0.7 * len(X_preprocessed)) + (int(0.15 * len(X_preprocessed)) + 1)]\n",
        "Y_test = Y_preprocessed[int(0.7 * len(X_preprocessed)) + (int(0.15 * len(X_preprocessed)) + 1) : ]\n",
        "\n",
        "print(\"Total number of examples after shuffling and splitting: {}\".format(len(X_train) + len(X_val) + len(X_test)))"
      ],
      "metadata": {
        "execution": {
          "iopub.status.busy": "2022-01-15T16:28:35.527259Z",
          "iopub.execute_input": "2022-01-15T16:28:35.527725Z",
          "iopub.status.idle": "2022-01-15T16:28:35.537469Z",
          "shell.execute_reply.started": "2022-01-15T16:28:35.527688Z",
          "shell.execute_reply": "2022-01-15T16:28:35.535711Z"
        },
        "trusted": true,
        "id": "s9XivlCrwkLL",
        "colab": {
          "base_uri": "https://localhost:8080/"
        },
        "outputId": "b425f065-b51e-472e-ae84-0306f20364d7"
      },
      "execution_count": 46,
      "outputs": [
        {
          "output_type": "stream",
          "name": "stdout",
          "text": [
            "Number of training examples: 33571\n",
            "Number of validation examples: 7194\n",
            "Number of testing examples: 7194\n",
            "Total number of examples after shuffling and splitting: 47959\n"
          ]
        }
      ]
    },
    {
      "cell_type": "markdown",
      "source": [
        "## Model Training and Evaluation"
      ],
      "metadata": {
        "id": "7mA9AiyFwkLL"
      }
    },
    {
      "cell_type": "code",
      "source": [
        "X_train[500]"
      ],
      "metadata": {
        "execution": {
          "iopub.status.busy": "2022-01-15T16:28:37.426048Z",
          "iopub.execute_input": "2022-01-15T16:28:37.426614Z",
          "iopub.status.idle": "2022-01-15T16:28:37.432265Z",
          "shell.execute_reply.started": "2022-01-15T16:28:37.426574Z",
          "shell.execute_reply": "2022-01-15T16:28:37.431596Z"
        },
        "trusted": true,
        "id": "o1V4mRxFwkLL",
        "colab": {
          "base_uri": "https://localhost:8080/"
        },
        "outputId": "5e232139-353a-4e46-bd7e-63c8efa7c7fb"
      },
      "execution_count": 50,
      "outputs": [
        {
          "output_type": "execute_result",
          "data": {
            "text/plain": [
              "array([   1, 3558,   48,  243,  117, 7895,   19,   23, 1257,  406,    4,\n",
              "         24,  156,   18,    1,  110,  654,    6,    4,   36,  182,    3,\n",
              "          5, 7355,   77,  114,    1,  164,  123,  340, 1253,  634,    0,\n",
              "          0,    0,    0,    0,    0,    0,    0,    0,    0,    0,    0,\n",
              "          0,    0,    0,    0,    0,    0,    0,    0,    0,    0,    0,\n",
              "          0,    0,    0,    0,    0,    0,    0,    0,    0,    0,    0,\n",
              "          0,    0,    0,    0,    0,    0,    0,    0,    0,    0,    0,\n",
              "          0,    0,    0,    0,    0,    0,    0,    0,    0,    0,    0,\n",
              "          0,    0,    0,    0,    0,    0,    0,    0,    0,    0,    0,\n",
              "          0,    0,    0,    0,    0,    0,    0,    0,    0,    0,    0],\n",
              "      dtype=int32)"
            ]
          },
          "metadata": {},
          "execution_count": 50
        }
      ]
    },
    {
      "cell_type": "code",
      "source": [
        "Y_train[500]"
      ],
      "metadata": {
        "execution": {
          "iopub.status.busy": "2022-01-15T16:28:37.640827Z",
          "iopub.execute_input": "2022-01-15T16:28:37.641071Z",
          "iopub.status.idle": "2022-01-15T16:28:37.64719Z",
          "shell.execute_reply.started": "2022-01-15T16:28:37.641042Z",
          "shell.execute_reply": "2022-01-15T16:28:37.646309Z"
        },
        "trusted": true,
        "id": "oNCoiKUlwkLL",
        "colab": {
          "base_uri": "https://localhost:8080/"
        },
        "outputId": "fd4e28e9-e6b5-4a43-ddcd-5e9974d20ca7"
      },
      "execution_count": 51,
      "outputs": [
        {
          "output_type": "execute_result",
          "data": {
            "text/plain": [
              "array([0, 0, 0, 0, 0, 0, 0, 0, 0, 0, 0, 0, 0, 2, 0, 0, 0, 0, 0, 0, 0, 0,\n",
              "       0, 0, 0, 0, 1, 5, 6, 6, 0, 0, 0, 0, 0, 0, 0, 0, 0, 0, 0, 0, 0, 0,\n",
              "       0, 0, 0, 0, 0, 0, 0, 0, 0, 0, 0, 0, 0, 0, 0, 0, 0, 0, 0, 0, 0, 0,\n",
              "       0, 0, 0, 0, 0, 0, 0, 0, 0, 0, 0, 0, 0, 0, 0, 0, 0, 0, 0, 0, 0, 0,\n",
              "       0, 0, 0, 0, 0, 0, 0, 0, 0, 0, 0, 0, 0, 0, 0, 0, 0, 0, 0, 0, 0, 0])"
            ]
          },
          "metadata": {},
          "execution_count": 51
        }
      ]
    },
    {
      "cell_type": "code",
      "source": [
        "id2word[800]"
      ],
      "metadata": {
        "execution": {
          "iopub.status.busy": "2022-01-15T16:28:37.837325Z",
          "iopub.execute_input": "2022-01-15T16:28:37.837546Z",
          "iopub.status.idle": "2022-01-15T16:28:37.842683Z",
          "shell.execute_reply.started": "2022-01-15T16:28:37.83752Z",
          "shell.execute_reply": "2022-01-15T16:28:37.84193Z"
        },
        "trusted": true,
        "id": "28CXFXB8wkLM",
        "colab": {
          "base_uri": "https://localhost:8080/",
          "height": 36
        },
        "outputId": "eac1d9b3-29c4-4df8-8d3e-bf9a0da690d2"
      },
      "execution_count": 52,
      "outputs": [
        {
          "output_type": "execute_result",
          "data": {
            "text/plain": [
              "'bodies'"
            ],
            "application/vnd.google.colaboratory.intrinsic+json": {
              "type": "string"
            }
          },
          "metadata": {},
          "execution_count": 52
        }
      ]
    },
    {
      "cell_type": "markdown",
      "source": [
        "### Load dataset to the model using train_dataset = tf.data.Dataset \n"
      ],
      "metadata": {
        "id": "yirJQ79owkLM"
      }
    },
    {
      "cell_type": "code",
      "source": [
        "train_dataset = tf.data.Dataset.from_tensor_slices((X_train, Y_train))\n",
        "val_dataset = tf.data.Dataset.from_tensor_slices((X_val, Y_val))\n",
        "test_dataset = tf.data.Dataset.from_tensor_slices((X_test, Y_test))"
      ],
      "metadata": {
        "execution": {
          "iopub.status.busy": "2022-01-15T16:28:39.682944Z",
          "iopub.execute_input": "2022-01-15T16:28:39.683644Z",
          "iopub.status.idle": "2022-01-15T16:28:41.985145Z",
          "shell.execute_reply.started": "2022-01-15T16:28:39.683607Z",
          "shell.execute_reply": "2022-01-15T16:28:41.98435Z"
        },
        "_kg_hide-output": true,
        "trusted": true,
        "id": "GlUjCWHnwkLM"
      },
      "execution_count": 53,
      "outputs": []
    },
    {
      "cell_type": "code",
      "source": [
        "BATCH_SIZE = 132\n",
        "SHUFFLE_BUFFER_SIZE = 132\n",
        "\n",
        "train_dataset = train_dataset.shuffle(SHUFFLE_BUFFER_SIZE).batch(BATCH_SIZE)\n",
        "val_dataset = val_dataset.batch(BATCH_SIZE)\n",
        "test_dataset = test_dataset.batch(BATCH_SIZE)"
      ],
      "metadata": {
        "execution": {
          "iopub.status.busy": "2022-01-15T16:29:10.047767Z",
          "iopub.execute_input": "2022-01-15T16:29:10.048431Z",
          "iopub.status.idle": "2022-01-15T16:29:10.063802Z",
          "shell.execute_reply.started": "2022-01-15T16:29:10.048383Z",
          "shell.execute_reply": "2022-01-15T16:29:10.062899Z"
        },
        "trusted": true,
        "id": "S_h1QeoMwkLM"
      },
      "execution_count": 54,
      "outputs": []
    },
    {
      "cell_type": "markdown",
      "source": [
        "### Build Bi-LSTM model and train"
      ],
      "metadata": {
        "id": "XaqCenRa13ac"
      }
    },
    {
      "cell_type": "code",
      "source": [
        "embedding_dim = 300\n",
        "maxlen = 110\n",
        "max_words = 36000\n",
        "num_tags = len(tags)\n",
        "\n",
        "model = tf.keras.models.Sequential([\n",
        "    tf.keras.layers.Embedding(max_words, embedding_dim, input_length=maxlen),\n",
        "    tf.keras.layers.SpatialDropout1D(0.1),\n",
        "    tf.keras.layers.Bidirectional(tf.keras.layers.LSTM(units=128, activation='tanh', return_sequences=True, recurrent_dropout=0.1)),\n",
        "    tf.keras.layers.Bidirectional(tf.keras.layers.LSTM(units=128, activation='tanh', return_sequences=True, recurrent_dropout=0.1)),\n",
        "    tf.keras.layers.TimeDistributed(tf.keras.layers.Dense(num_tags, activation='softmax'))\n",
        "])"
      ],
      "metadata": {
        "execution": {
          "iopub.status.busy": "2022-01-15T16:29:11.034112Z",
          "iopub.execute_input": "2022-01-15T16:29:11.034833Z",
          "iopub.status.idle": "2022-01-15T16:29:12.114376Z",
          "shell.execute_reply.started": "2022-01-15T16:29:11.034793Z",
          "shell.execute_reply": "2022-01-15T16:29:12.113655Z"
        },
        "trusted": true,
        "id": "QDh9rB71wkLN",
        "colab": {
          "base_uri": "https://localhost:8080/"
        },
        "outputId": "53c9b902-a203-4571-9934-27923629d204"
      },
      "execution_count": 57,
      "outputs": [
        {
          "output_type": "stream",
          "name": "stdout",
          "text": [
            "WARNING:tensorflow:Layer lstm will not use cuDNN kernels since it doesn't meet the criteria. It will use a generic GPU kernel as fallback when running on GPU.\n",
            "WARNING:tensorflow:Layer lstm will not use cuDNN kernels since it doesn't meet the criteria. It will use a generic GPU kernel as fallback when running on GPU.\n",
            "WARNING:tensorflow:Layer lstm will not use cuDNN kernels since it doesn't meet the criteria. It will use a generic GPU kernel as fallback when running on GPU.\n",
            "WARNING:tensorflow:Layer lstm_1 will not use cuDNN kernels since it doesn't meet the criteria. It will use a generic GPU kernel as fallback when running on GPU.\n",
            "WARNING:tensorflow:Layer lstm_1 will not use cuDNN kernels since it doesn't meet the criteria. It will use a generic GPU kernel as fallback when running on GPU.\n",
            "WARNING:tensorflow:Layer lstm_1 will not use cuDNN kernels since it doesn't meet the criteria. It will use a generic GPU kernel as fallback when running on GPU.\n"
          ]
        }
      ]
    },
    {
      "cell_type": "code",
      "source": [
        "model.summary()"
      ],
      "metadata": {
        "execution": {
          "iopub.status.busy": "2022-01-15T16:29:14.912033Z",
          "iopub.execute_input": "2022-01-15T16:29:14.912633Z",
          "iopub.status.idle": "2022-01-15T16:29:14.922574Z",
          "shell.execute_reply.started": "2022-01-15T16:29:14.912594Z",
          "shell.execute_reply": "2022-01-15T16:29:14.921618Z"
        },
        "trusted": true,
        "id": "YZ98OK00wkLN",
        "colab": {
          "base_uri": "https://localhost:8080/"
        },
        "outputId": "1d453344-a646-46c8-82c6-581e1afd0963"
      },
      "execution_count": 58,
      "outputs": [
        {
          "output_type": "stream",
          "name": "stdout",
          "text": [
            "Model: \"sequential\"\n",
            "_________________________________________________________________\n",
            " Layer (type)                Output Shape              Param #   \n",
            "=================================================================\n",
            " embedding (Embedding)       (None, 110, 300)          10800000  \n",
            "                                                                 \n",
            " spatial_dropout1d (SpatialD  (None, 110, 300)         0         \n",
            " ropout1D)                                                       \n",
            "                                                                 \n",
            " bidirectional (Bidirectiona  (None, 110, 256)         439296    \n",
            " l)                                                              \n",
            "                                                                 \n",
            " bidirectional_1 (Bidirectio  (None, 110, 256)         394240    \n",
            " nal)                                                            \n",
            "                                                                 \n",
            " time_distributed (TimeDistr  (None, 110, 17)          4369      \n",
            " ibuted)                                                         \n",
            "                                                                 \n",
            "=================================================================\n",
            "Total params: 11,637,905\n",
            "Trainable params: 11,637,905\n",
            "Non-trainable params: 0\n",
            "_________________________________________________________________\n"
          ]
        }
      ]
    },
    {
      "cell_type": "code",
      "source": [
        "model.compile(loss='sparse_categorical_crossentropy',\n",
        "              optimizer='adam',\n",
        "              metrics=['accuracy'])"
      ],
      "metadata": {
        "execution": {
          "iopub.status.busy": "2022-01-15T16:29:15.180697Z",
          "iopub.execute_input": "2022-01-15T16:29:15.180942Z",
          "iopub.status.idle": "2022-01-15T16:29:15.196203Z",
          "shell.execute_reply.started": "2022-01-15T16:29:15.180914Z",
          "shell.execute_reply": "2022-01-15T16:29:15.1954Z"
        },
        "trusted": true,
        "id": "MOGf91tZwkLN"
      },
      "execution_count": 59,
      "outputs": []
    },
    {
      "cell_type": "code",
      "source": [
        "history = model.fit(train_dataset,\n",
        "                    validation_data=val_dataset,\n",
        "                    epochs=10)"
      ],
      "metadata": {
        "execution": {
          "iopub.status.busy": "2022-01-15T16:29:52.841931Z",
          "iopub.execute_input": "2022-01-15T16:29:52.842214Z",
          "iopub.status.idle": "2022-01-15T16:31:08.974781Z",
          "shell.execute_reply.started": "2022-01-15T16:29:52.842177Z",
          "shell.execute_reply": "2022-01-15T16:31:08.973948Z"
        },
        "trusted": true,
        "id": "g0awhn3QwkLN",
        "colab": {
          "base_uri": "https://localhost:8080/"
        },
        "outputId": "67ceb917-845b-4766-ca3d-96262832a46c"
      },
      "execution_count": 60,
      "outputs": [
        {
          "output_type": "stream",
          "name": "stdout",
          "text": [
            "Epoch 1/10\n",
            "255/255 [==============================] - 666s 3s/step - loss: 0.1777 - accuracy: 0.9660 - val_loss: 0.1110 - val_accuracy: 0.9708\n",
            "Epoch 2/10\n",
            "255/255 [==============================] - 651s 3s/step - loss: 0.0981 - accuracy: 0.9728 - val_loss: 0.0838 - val_accuracy: 0.9761\n",
            "Epoch 3/10\n",
            "255/255 [==============================] - 638s 3s/step - loss: 0.0702 - accuracy: 0.9782 - val_loss: 0.0709 - val_accuracy: 0.9789\n",
            "Epoch 4/10\n",
            "255/255 [==============================] - 635s 2s/step - loss: 0.0569 - accuracy: 0.9811 - val_loss: 0.0655 - val_accuracy: 0.9799\n",
            "Epoch 5/10\n",
            "255/255 [==============================] - 630s 2s/step - loss: 0.0483 - accuracy: 0.9836 - val_loss: 0.0658 - val_accuracy: 0.9808\n",
            "Epoch 6/10\n",
            "255/255 [==============================] - 624s 2s/step - loss: 0.0425 - accuracy: 0.9854 - val_loss: 0.0665 - val_accuracy: 0.9807\n",
            "Epoch 7/10\n",
            "255/255 [==============================] - 622s 2s/step - loss: 0.0379 - accuracy: 0.9870 - val_loss: 0.0656 - val_accuracy: 0.9813\n",
            "Epoch 8/10\n",
            "255/255 [==============================] - 638s 3s/step - loss: 0.0337 - accuracy: 0.9883 - val_loss: 0.0710 - val_accuracy: 0.9809\n",
            "Epoch 9/10\n",
            "255/255 [==============================] - 640s 3s/step - loss: 0.0303 - accuracy: 0.9896 - val_loss: 0.0729 - val_accuracy: 0.9811\n",
            "Epoch 10/10\n",
            "255/255 [==============================] - 637s 2s/step - loss: 0.0276 - accuracy: 0.9904 - val_loss: 0.0735 - val_accuracy: 0.9806\n"
          ]
        }
      ]
    },
    {
      "cell_type": "markdown",
      "source": [
        "### Model Evaluate and Test"
      ],
      "metadata": {
        "id": "BA4cQsCt2VOa"
      }
    },
    {
      "cell_type": "code",
      "source": [
        "model.evaluate(test_dataset)"
      ],
      "metadata": {
        "execution": {
          "iopub.status.busy": "2022-01-15T16:31:08.976525Z",
          "iopub.execute_input": "2022-01-15T16:31:08.976723Z",
          "iopub.status.idle": "2022-01-15T16:31:09.951793Z",
          "shell.execute_reply.started": "2022-01-15T16:31:08.976698Z",
          "shell.execute_reply": "2022-01-15T16:31:09.951076Z"
        },
        "trusted": true,
        "id": "9t1kmhVIwkLO",
        "colab": {
          "base_uri": "https://localhost:8080/"
        },
        "outputId": "47b7b49f-d08a-4e4a-d69d-a8a840a0c892"
      },
      "execution_count": 61,
      "outputs": [
        {
          "output_type": "stream",
          "name": "stdout",
          "text": [
            "55/55 [==============================] - 11s 195ms/step - loss: 0.0719 - accuracy: 0.9808\n"
          ]
        },
        {
          "output_type": "execute_result",
          "data": {
            "text/plain": [
              "[0.0719389021396637, 0.9808476567268372]"
            ]
          },
          "metadata": {},
          "execution_count": 61
        }
      ]
    },
    {
      "cell_type": "code",
      "source": [
        "acc = history.history['accuracy']\n",
        "val_acc = history.history['val_accuracy']\n",
        "\n",
        "loss = history.history['loss']\n",
        "val_loss = history.history['val_loss']\n",
        "\n",
        "epochs = range(1, len(acc) + 1)\n",
        "\n",
        "fig, ax = plt.subplots(1, 2, constrained_layout=True, figsize=(8, 4), dpi=80)\n",
        "\n",
        "ax[0].plot(epochs, acc, label = \"Training Accuracy\", color='darkblue')\n",
        "ax[0].plot(epochs, val_acc, label = \"Validation Accuracy\", color='darkgreen')\n",
        "ax[0].grid(alpha=0.3)\n",
        "ax[0].title.set_text('Training Vs Validation Accuracy')\n",
        "ax[0].fill_between(epochs, acc, val_acc, color='crimson', alpha=0.3)\n",
        "plt.setp(ax[0], xlabel='Epochs')\n",
        "plt.setp(ax[0], ylabel='Accuracy')\n",
        "\n",
        "\n",
        "ax[1].plot(epochs, loss, label = \"Training Loss\", color='darkblue')\n",
        "ax[1].plot(epochs, val_loss, label = \"Validation Loss\", color='darkgreen')\n",
        "ax[1].grid(alpha=0.3)\n",
        "ax[1].title.set_text('Training Vs Validation Loss')\n",
        "ax[1].fill_between(epochs,loss, val_loss, color='crimson', alpha=0.3)\n",
        "plt.setp(ax[1], xlabel='Epochs')\n",
        "plt.setp(ax[1], ylabel='Loss')\n",
        "\n",
        "plt.show()"
      ],
      "metadata": {
        "execution": {
          "iopub.status.busy": "2022-01-15T16:31:09.953026Z",
          "iopub.execute_input": "2022-01-15T16:31:09.953301Z",
          "iopub.status.idle": "2022-01-15T16:31:10.344047Z",
          "shell.execute_reply.started": "2022-01-15T16:31:09.953262Z",
          "shell.execute_reply": "2022-01-15T16:31:10.343396Z"
        },
        "trusted": true,
        "id": "BmzAXkCFwkLO",
        "colab": {
          "base_uri": "https://localhost:8080/",
          "height": 346
        },
        "outputId": "ccd81d9b-a7da-4cb8-ea4d-0142a031724b"
      },
      "execution_count": 62,
      "outputs": [
        {
          "output_type": "display_data",
          "data": {
            "text/plain": [
              "<Figure size 640x320 with 2 Axes>"
            ],
            "image/png": "[encoded data removed]"
          },
          "metadata": {
            "needs_background": "light"
          }
        }
      ]
    },
    {
      "cell_type": "code",
      "source": [
        "def make_prediction(model, preprocessed_sentence, id2word, id2tag):\n",
        "    \n",
        "    #if preprocessed_sentence.shape() != (1, 110):\n",
        "    preprocessed_sentence = preprocessed_sentence.reshape((1, 110))\n",
        "     \n",
        "    # return preprocessed sentence to its orginal form\n",
        "    sentence = preprocessed_sentence[preprocessed_sentence > 0]\n",
        "    word_list = []\n",
        "    for word in list(sentence):\n",
        "        word_list.append(id2word[word])\n",
        "    orginal_sententce = ' '.join(word_list)\n",
        "    \n",
        "    len_orginal_sententce = len(word_list)\n",
        "    \n",
        "    # make prediction\n",
        "    prediction = model.predict(preprocessed_sentence)\n",
        "    prediction = np.argmax(prediction[0], axis=1)\n",
        "    \n",
        "    # return the prediction to its orginal form\n",
        "    prediction = list(prediction)[ : len_orginal_sententce] \n",
        "    \n",
        "    pred_tag_list = []\n",
        "    for tag_id in prediction:\n",
        "        pred_tag_list.append(id2tag[tag_id])\n",
        "    \n",
        "    return orginal_sententce,  pred_tag_list"
      ],
      "metadata": {
        "execution": {
          "iopub.status.busy": "2022-01-15T16:31:10.345915Z",
          "iopub.execute_input": "2022-01-15T16:31:10.346328Z",
          "iopub.status.idle": "2022-01-15T16:31:10.353837Z",
          "shell.execute_reply.started": "2022-01-15T16:31:10.346288Z",
          "shell.execute_reply": "2022-01-15T16:31:10.353213Z"
        },
        "trusted": true,
        "id": "FZl7swO6wkLO"
      },
      "execution_count": 63,
      "outputs": []
    },
    {
      "cell_type": "code",
      "source": [
        "orginal_sententce,  pred_tag_list = make_prediction(model=model,\n",
        "                                                    preprocessed_sentence=X_test[540],\n",
        "                                                    id2word=id2word,\n",
        "                                                    id2tag=id2tag)"
      ],
      "metadata": {
        "execution": {
          "iopub.status.busy": "2022-01-15T16:31:10.354896Z",
          "iopub.execute_input": "2022-01-15T16:31:10.355112Z",
          "iopub.status.idle": "2022-01-15T16:31:11.455519Z",
          "shell.execute_reply.started": "2022-01-15T16:31:10.355087Z",
          "shell.execute_reply": "2022-01-15T16:31:11.454729Z"
        },
        "trusted": true,
        "id": "U11tmcIswkLO"
      },
      "execution_count": 64,
      "outputs": []
    },
    {
      "cell_type": "code",
      "source": [
        "print(orginal_sententce)"
      ],
      "metadata": {
        "execution": {
          "iopub.status.busy": "2022-01-15T16:31:11.458094Z",
          "iopub.execute_input": "2022-01-15T16:31:11.459112Z",
          "iopub.status.idle": "2022-01-15T16:31:11.46367Z",
          "shell.execute_reply.started": "2022-01-15T16:31:11.459079Z",
          "shell.execute_reply": "2022-01-15T16:31:11.462968Z"
        },
        "trusted": true,
        "id": "uv7O2YuVwkLP",
        "colab": {
          "base_uri": "https://localhost:8080/"
        },
        "outputId": "009286ea-3ffa-497a-a477-807b79433160"
      },
      "execution_count": 65,
      "outputs": [
        {
          "output_type": "stream",
          "name": "stdout",
          "text": [
            "both british prime minister blair and his irish counterpart bertie ahern paid tribute to ms mowlam for her energetic efforts on behalf of peace in northern ireland\n"
          ]
        }
      ]
    },
    {
      "cell_type": "code",
      "source": [
        "print(pred_tag_list)"
      ],
      "metadata": {
        "execution": {
          "iopub.status.busy": "2022-01-15T16:31:11.464779Z",
          "iopub.execute_input": "2022-01-15T16:31:11.465376Z",
          "iopub.status.idle": "2022-01-15T16:31:11.472994Z",
          "shell.execute_reply.started": "2022-01-15T16:31:11.465333Z",
          "shell.execute_reply": "2022-01-15T16:31:11.47223Z"
        },
        "trusted": true,
        "id": "fwsNQ9_VwkLP",
        "colab": {
          "base_uri": "https://localhost:8080/"
        },
        "outputId": "c2610657-dbe4-4fca-9c06-6c165f98da43"
      },
      "execution_count": 66,
      "outputs": [
        {
          "output_type": "stream",
          "name": "stdout",
          "text": [
            "['O', 'B-gpe', 'B-per', 'I-per', 'I-per', 'O', 'O', 'B-gpe', 'O', 'O', 'B-per', 'I-per', 'O', 'O', 'O', 'B-per', 'B-per', 'O', 'O', 'O', 'O', 'O', 'O', 'O', 'O', 'O', 'O']\n"
          ]
        }
      ]
    },
    {
      "cell_type": "code",
      "source": [
        "print(Y_test[540])"
      ],
      "metadata": {
        "colab": {
          "base_uri": "https://localhost:8080/"
        },
        "id": "i98XvylI59on",
        "outputId": "c0b87bff-33ba-47f4-bd1b-efb6772ef629"
      },
      "execution_count": 67,
      "outputs": [
        {
          "output_type": "stream",
          "name": "stdout",
          "text": [
            "[ 0  2  3  0  0  0  0  2  0  3 10  0  0  0  3  5  0  0  0  0  0  0  0  0\n",
            "  0  1  4  0  0  0  0  0  0  0  0  0  0  0  0  0  0  0  0  0  0  0  0  0\n",
            "  0  0  0  0  0  0  0  0  0  0  0  0  0  0  0  0  0  0  0  0  0  0  0  0\n",
            "  0  0  0  0  0  0  0  0  0  0  0  0  0  0  0  0  0  0  0  0  0  0  0  0\n",
            "  0  0  0  0  0  0  0  0  0  0  0  0  0  0]\n"
          ]
        }
      ]
    },
    {
      "cell_type": "code",
      "source": [
        "ls = list(Y_test[540])"
      ],
      "metadata": {
        "id": "tZpCPaLH9bxt"
      },
      "execution_count": 68,
      "outputs": []
    },
    {
      "cell_type": "code",
      "source": [
        "for i in ls:\n",
        "  print(''.join(id2tag[i]), end = ', ')"
      ],
      "metadata": {
        "colab": {
          "base_uri": "https://localhost:8080/"
        },
        "id": "EOH-QLeE8TSS",
        "outputId": "e8105b5e-9d8a-499e-ad00-575e496ac784"
      },
      "execution_count": 69,
      "outputs": [
        {
          "output_type": "stream",
          "name": "stdout",
          "text": [
            "O, B-gpe, B-per, O, O, O, O, B-gpe, O, B-per, I-per, O, O, O, B-per, B-org, O, O, O, O, O, O, O, O, O, B-geo, I-geo, O, O, O, O, O, O, O, O, O, O, O, O, O, O, O, O, O, O, O, O, O, O, O, O, O, O, O, O, O, O, O, O, O, O, O, O, O, O, O, O, O, O, O, O, O, O, O, O, O, O, O, O, O, O, O, O, O, O, O, O, O, O, O, O, O, O, O, O, O, O, O, O, O, O, O, O, O, O, O, O, O, O, O, "
          ]
        }
      ]
    }
  ]
}